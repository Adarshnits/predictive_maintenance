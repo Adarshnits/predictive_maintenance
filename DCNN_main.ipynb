{
 "cells": [
  {
   "cell_type": "code",
   "execution_count": 26,
   "metadata": {
    "colab": {
     "base_uri": "https://localhost:8080/",
     "height": 35
    },
    "colab_type": "code",
    "id": "zZkagJ0X3fhE",
    "outputId": "4381e275-292d-4c25-d40c-49803283dfe4",
    "tags": []
   },
   "outputs": [],
   "source": [
    "import keras\n",
    "import keras.backend as K\n",
    "from keras.layers.core import Activation\n",
    "from keras.models import Sequential,load_model\n",
    "from keras.layers import Conv1D, GlobalMaxPooling1D, Dropout, Dense\n",
    "from keras.callbacks import ModelCheckpoint, EarlyStopping\n",
    "import pandas as pd\n",
    "import numpy as np\n",
    "import matplotlib.pyplot as plt\n",
    "from sklearn import preprocessing\n",
    "from keras.optimizers import RMSprop\n",
    "from keras.losses import Huber"
   ]
  },
  {
   "cell_type": "code",
   "execution_count": 4,
   "metadata": {
    "colab": {},
    "colab_type": "code",
    "id": "wrqRcjqjovI9"
   },
   "outputs": [],
   "source": [
    "#Train_data is a cleaned train_FD001\n",
    "train_data=pd.read_csv(\"Train_data.csv\")\n",
    "\n",
    "#Engine number 21 sensor readings are used as the test\n",
    "test_data=pd.read_csv(\"test_engine_21.csv\")"
   ]
  },
  {
   "cell_type": "code",
   "execution_count": 5,
   "metadata": {
    "colab": {
     "base_uri": "https://localhost:8080/",
     "height": 222
    },
    "colab_type": "code",
    "id": "iWiXYQHi3fhK",
    "outputId": "8a74277f-465b-4004-b69c-33acce0da713"
   },
   "outputs": [
    {
     "data": {
      "text/html": [
       "<div>\n",
       "<style scoped>\n",
       "    .dataframe tbody tr th:only-of-type {\n",
       "        vertical-align: middle;\n",
       "    }\n",
       "\n",
       "    .dataframe tbody tr th {\n",
       "        vertical-align: top;\n",
       "    }\n",
       "\n",
       "    .dataframe thead th {\n",
       "        text-align: right;\n",
       "    }\n",
       "</style>\n",
       "<table border=\"1\" class=\"dataframe\">\n",
       "  <thead>\n",
       "    <tr style=\"text-align: right;\">\n",
       "      <th></th>\n",
       "      <th>id</th>\n",
       "      <th>cycle</th>\n",
       "      <th>sensor2</th>\n",
       "      <th>sensor3</th>\n",
       "      <th>sensor4</th>\n",
       "      <th>sensor7</th>\n",
       "      <th>sensor8</th>\n",
       "      <th>sensor9</th>\n",
       "      <th>sensor11</th>\n",
       "      <th>sensor12</th>\n",
       "      <th>sensor13</th>\n",
       "      <th>sensor14</th>\n",
       "      <th>sensor15</th>\n",
       "      <th>sensor17</th>\n",
       "      <th>sensor20</th>\n",
       "      <th>sensor21</th>\n",
       "      <th>R_early</th>\n",
       "    </tr>\n",
       "  </thead>\n",
       "  <tbody>\n",
       "    <tr>\n",
       "      <th>0</th>\n",
       "      <td>1</td>\n",
       "      <td>1</td>\n",
       "      <td>641.82</td>\n",
       "      <td>1589.70</td>\n",
       "      <td>1400.60</td>\n",
       "      <td>554.36</td>\n",
       "      <td>2388.06</td>\n",
       "      <td>9046.19</td>\n",
       "      <td>47.47</td>\n",
       "      <td>521.66</td>\n",
       "      <td>2388.02</td>\n",
       "      <td>8138.62</td>\n",
       "      <td>8.4195</td>\n",
       "      <td>392</td>\n",
       "      <td>39.06</td>\n",
       "      <td>23.4190</td>\n",
       "      <td>125</td>\n",
       "    </tr>\n",
       "    <tr>\n",
       "      <th>1</th>\n",
       "      <td>1</td>\n",
       "      <td>2</td>\n",
       "      <td>642.15</td>\n",
       "      <td>1591.82</td>\n",
       "      <td>1403.14</td>\n",
       "      <td>553.75</td>\n",
       "      <td>2388.04</td>\n",
       "      <td>9044.07</td>\n",
       "      <td>47.49</td>\n",
       "      <td>522.28</td>\n",
       "      <td>2388.07</td>\n",
       "      <td>8131.49</td>\n",
       "      <td>8.4318</td>\n",
       "      <td>392</td>\n",
       "      <td>39.00</td>\n",
       "      <td>23.4236</td>\n",
       "      <td>125</td>\n",
       "    </tr>\n",
       "    <tr>\n",
       "      <th>2</th>\n",
       "      <td>1</td>\n",
       "      <td>3</td>\n",
       "      <td>642.35</td>\n",
       "      <td>1587.99</td>\n",
       "      <td>1404.20</td>\n",
       "      <td>554.26</td>\n",
       "      <td>2388.08</td>\n",
       "      <td>9052.94</td>\n",
       "      <td>47.27</td>\n",
       "      <td>522.42</td>\n",
       "      <td>2388.03</td>\n",
       "      <td>8133.23</td>\n",
       "      <td>8.4178</td>\n",
       "      <td>390</td>\n",
       "      <td>38.95</td>\n",
       "      <td>23.3442</td>\n",
       "      <td>125</td>\n",
       "    </tr>\n",
       "    <tr>\n",
       "      <th>3</th>\n",
       "      <td>1</td>\n",
       "      <td>4</td>\n",
       "      <td>642.35</td>\n",
       "      <td>1582.79</td>\n",
       "      <td>1401.87</td>\n",
       "      <td>554.45</td>\n",
       "      <td>2388.11</td>\n",
       "      <td>9049.48</td>\n",
       "      <td>47.13</td>\n",
       "      <td>522.86</td>\n",
       "      <td>2388.08</td>\n",
       "      <td>8133.83</td>\n",
       "      <td>8.3682</td>\n",
       "      <td>392</td>\n",
       "      <td>38.88</td>\n",
       "      <td>23.3739</td>\n",
       "      <td>125</td>\n",
       "    </tr>\n",
       "    <tr>\n",
       "      <th>4</th>\n",
       "      <td>1</td>\n",
       "      <td>5</td>\n",
       "      <td>642.37</td>\n",
       "      <td>1582.85</td>\n",
       "      <td>1406.22</td>\n",
       "      <td>554.00</td>\n",
       "      <td>2388.06</td>\n",
       "      <td>9055.15</td>\n",
       "      <td>47.28</td>\n",
       "      <td>522.19</td>\n",
       "      <td>2388.04</td>\n",
       "      <td>8133.80</td>\n",
       "      <td>8.4294</td>\n",
       "      <td>393</td>\n",
       "      <td>38.90</td>\n",
       "      <td>23.4044</td>\n",
       "      <td>125</td>\n",
       "    </tr>\n",
       "  </tbody>\n",
       "</table>\n",
       "</div>"
      ],
      "text/plain": [
       "   id  cycle  sensor2  sensor3  sensor4  sensor7  sensor8  sensor9  sensor11  \\\n",
       "0   1      1   641.82  1589.70  1400.60   554.36  2388.06  9046.19     47.47   \n",
       "1   1      2   642.15  1591.82  1403.14   553.75  2388.04  9044.07     47.49   \n",
       "2   1      3   642.35  1587.99  1404.20   554.26  2388.08  9052.94     47.27   \n",
       "3   1      4   642.35  1582.79  1401.87   554.45  2388.11  9049.48     47.13   \n",
       "4   1      5   642.37  1582.85  1406.22   554.00  2388.06  9055.15     47.28   \n",
       "\n",
       "   sensor12  sensor13  sensor14  sensor15  sensor17  sensor20  sensor21  \\\n",
       "0    521.66   2388.02   8138.62    8.4195       392     39.06   23.4190   \n",
       "1    522.28   2388.07   8131.49    8.4318       392     39.00   23.4236   \n",
       "2    522.42   2388.03   8133.23    8.4178       390     38.95   23.3442   \n",
       "3    522.86   2388.08   8133.83    8.3682       392     38.88   23.3739   \n",
       "4    522.19   2388.04   8133.80    8.4294       393     38.90   23.4044   \n",
       "\n",
       "   R_early  \n",
       "0      125  \n",
       "1      125  \n",
       "2      125  \n",
       "3      125  \n",
       "4      125  "
      ]
     },
     "execution_count": 5,
     "metadata": {},
     "output_type": "execute_result"
    }
   ],
   "source": [
    "train_data.head()"
   ]
  },
  {
   "cell_type": "code",
   "execution_count": 6,
   "metadata": {
    "colab": {
     "base_uri": "https://localhost:8080/",
     "height": 222
    },
    "colab_type": "code",
    "id": "B7SLQPfk3fhN",
    "outputId": "271fe265-ad98-4014-feb2-6a10fd196687"
   },
   "outputs": [
    {
     "data": {
      "text/html": [
       "<div>\n",
       "<style scoped>\n",
       "    .dataframe tbody tr th:only-of-type {\n",
       "        vertical-align: middle;\n",
       "    }\n",
       "\n",
       "    .dataframe tbody tr th {\n",
       "        vertical-align: top;\n",
       "    }\n",
       "\n",
       "    .dataframe thead th {\n",
       "        text-align: right;\n",
       "    }\n",
       "</style>\n",
       "<table border=\"1\" class=\"dataframe\">\n",
       "  <thead>\n",
       "    <tr style=\"text-align: right;\">\n",
       "      <th></th>\n",
       "      <th>id</th>\n",
       "      <th>cycle</th>\n",
       "      <th>sensor2</th>\n",
       "      <th>sensor3</th>\n",
       "      <th>sensor4</th>\n",
       "      <th>sensor7</th>\n",
       "      <th>sensor8</th>\n",
       "      <th>sensor9</th>\n",
       "      <th>sensor11</th>\n",
       "      <th>sensor12</th>\n",
       "      <th>sensor13</th>\n",
       "      <th>sensor14</th>\n",
       "      <th>sensor15</th>\n",
       "      <th>sensor17</th>\n",
       "      <th>sensor20</th>\n",
       "      <th>sensor21</th>\n",
       "      <th>R_early</th>\n",
       "    </tr>\n",
       "  </thead>\n",
       "  <tbody>\n",
       "    <tr>\n",
       "      <th>0</th>\n",
       "      <td>21</td>\n",
       "      <td>1</td>\n",
       "      <td>642.24</td>\n",
       "      <td>1582.88</td>\n",
       "      <td>1410.66</td>\n",
       "      <td>553.57</td>\n",
       "      <td>2388.07</td>\n",
       "      <td>9047.42</td>\n",
       "      <td>47.44</td>\n",
       "      <td>521.76</td>\n",
       "      <td>2388.06</td>\n",
       "      <td>8128.48</td>\n",
       "      <td>8.4181</td>\n",
       "      <td>395</td>\n",
       "      <td>38.90</td>\n",
       "      <td>23.3554</td>\n",
       "      <td>125</td>\n",
       "    </tr>\n",
       "    <tr>\n",
       "      <th>1</th>\n",
       "      <td>21</td>\n",
       "      <td>2</td>\n",
       "      <td>642.27</td>\n",
       "      <td>1582.13</td>\n",
       "      <td>1404.54</td>\n",
       "      <td>553.22</td>\n",
       "      <td>2388.03</td>\n",
       "      <td>9043.88</td>\n",
       "      <td>47.25</td>\n",
       "      <td>521.39</td>\n",
       "      <td>2388.05</td>\n",
       "      <td>8120.15</td>\n",
       "      <td>8.3895</td>\n",
       "      <td>392</td>\n",
       "      <td>38.81</td>\n",
       "      <td>23.2300</td>\n",
       "      <td>125</td>\n",
       "    </tr>\n",
       "    <tr>\n",
       "      <th>2</th>\n",
       "      <td>21</td>\n",
       "      <td>3</td>\n",
       "      <td>642.47</td>\n",
       "      <td>1589.73</td>\n",
       "      <td>1408.88</td>\n",
       "      <td>553.21</td>\n",
       "      <td>2388.11</td>\n",
       "      <td>9048.33</td>\n",
       "      <td>47.43</td>\n",
       "      <td>521.26</td>\n",
       "      <td>2388.12</td>\n",
       "      <td>8124.89</td>\n",
       "      <td>8.4454</td>\n",
       "      <td>392</td>\n",
       "      <td>38.69</td>\n",
       "      <td>23.3471</td>\n",
       "      <td>125</td>\n",
       "    </tr>\n",
       "    <tr>\n",
       "      <th>3</th>\n",
       "      <td>21</td>\n",
       "      <td>4</td>\n",
       "      <td>642.50</td>\n",
       "      <td>1587.18</td>\n",
       "      <td>1409.45</td>\n",
       "      <td>553.30</td>\n",
       "      <td>2388.05</td>\n",
       "      <td>9052.17</td>\n",
       "      <td>47.35</td>\n",
       "      <td>521.81</td>\n",
       "      <td>2388.08</td>\n",
       "      <td>8126.21</td>\n",
       "      <td>8.3913</td>\n",
       "      <td>393</td>\n",
       "      <td>39.00</td>\n",
       "      <td>23.4179</td>\n",
       "      <td>125</td>\n",
       "    </tr>\n",
       "    <tr>\n",
       "      <th>4</th>\n",
       "      <td>21</td>\n",
       "      <td>5</td>\n",
       "      <td>642.21</td>\n",
       "      <td>1596.51</td>\n",
       "      <td>1401.46</td>\n",
       "      <td>553.03</td>\n",
       "      <td>2388.04</td>\n",
       "      <td>9047.48</td>\n",
       "      <td>47.57</td>\n",
       "      <td>521.82</td>\n",
       "      <td>2388.10</td>\n",
       "      <td>8130.92</td>\n",
       "      <td>8.4825</td>\n",
       "      <td>393</td>\n",
       "      <td>38.88</td>\n",
       "      <td>23.2637</td>\n",
       "      <td>125</td>\n",
       "    </tr>\n",
       "  </tbody>\n",
       "</table>\n",
       "</div>"
      ],
      "text/plain": [
       "   id  cycle  sensor2  sensor3  sensor4  sensor7  sensor8  sensor9  sensor11  \\\n",
       "0  21      1   642.24  1582.88  1410.66   553.57  2388.07  9047.42     47.44   \n",
       "1  21      2   642.27  1582.13  1404.54   553.22  2388.03  9043.88     47.25   \n",
       "2  21      3   642.47  1589.73  1408.88   553.21  2388.11  9048.33     47.43   \n",
       "3  21      4   642.50  1587.18  1409.45   553.30  2388.05  9052.17     47.35   \n",
       "4  21      5   642.21  1596.51  1401.46   553.03  2388.04  9047.48     47.57   \n",
       "\n",
       "   sensor12  sensor13  sensor14  sensor15  sensor17  sensor20  sensor21  \\\n",
       "0    521.76   2388.06   8128.48    8.4181       395     38.90   23.3554   \n",
       "1    521.39   2388.05   8120.15    8.3895       392     38.81   23.2300   \n",
       "2    521.26   2388.12   8124.89    8.4454       392     38.69   23.3471   \n",
       "3    521.81   2388.08   8126.21    8.3913       393     39.00   23.4179   \n",
       "4    521.82   2388.10   8130.92    8.4825       393     38.88   23.2637   \n",
       "\n",
       "   R_early  \n",
       "0      125  \n",
       "1      125  \n",
       "2      125  \n",
       "3      125  \n",
       "4      125  "
      ]
     },
     "execution_count": 6,
     "metadata": {},
     "output_type": "execute_result"
    }
   ],
   "source": [
    "test_data.head()"
   ]
  },
  {
   "cell_type": "code",
   "execution_count": 7,
   "metadata": {
    "colab": {
     "base_uri": "https://localhost:8080/",
     "height": 156
    },
    "colab_type": "code",
    "id": "A9gO_kR13fhP",
    "outputId": "f6ff9fac-7059-49fe-fa33-c690b3b69646"
   },
   "outputs": [
    {
     "name": "stdout",
     "output_type": "stream",
     "text": [
      "   id  cycle   sensor2   sensor3   sensor4   sensor7   sensor8   sensor9  \\\n",
      "0   1      1  0.183735  0.406802  0.309757  0.726248  0.242424  0.109755   \n",
      "1   1      2  0.283133  0.453019  0.352633  0.628019  0.212121  0.100242   \n",
      "2   1      3  0.343373  0.369523  0.370527  0.710145  0.272727  0.140043   \n",
      "3   1      4  0.343373  0.256159  0.331195  0.740741  0.318182  0.124518   \n",
      "4   1      5  0.349398  0.257467  0.404625  0.668277  0.242424  0.149960   \n",
      "\n",
      "   sensor11  sensor12  sensor13  sensor14  sensor15  sensor17  sensor20  \\\n",
      "0  0.369048  0.633262  0.205882  0.199608  0.363986  0.333333  0.713178   \n",
      "1  0.380952  0.765458  0.279412  0.162813  0.411312  0.333333  0.666667   \n",
      "2  0.250000  0.795309  0.220588  0.171793  0.357445  0.166667  0.627907   \n",
      "3  0.166667  0.889126  0.294118  0.174889  0.166603  0.333333  0.573643   \n",
      "4  0.255952  0.746269  0.235294  0.174734  0.402078  0.416667  0.589147   \n",
      "\n",
      "   sensor21  R_early  \n",
      "0  0.724662      125  \n",
      "1  0.731014      125  \n",
      "2  0.621375      125  \n",
      "3  0.662386      125  \n",
      "4  0.704502      125  \n"
     ]
    }
   ],
   "source": [
    "#Normalize the training set\n",
    "cols_normalize = train_data.columns.difference(['id','cycle','R_early'])\n",
    "min_max_scaler = preprocessing.MinMaxScaler()\n",
    "norm_train_df = pd.DataFrame(min_max_scaler.fit_transform(train_data[cols_normalize]), \n",
    "                             columns=cols_normalize, \n",
    "                             index=train_data.index)\n",
    "join_df = train_data[train_data.columns.difference(cols_normalize)].join(norm_train_df)\n",
    "train_data = join_df.reindex(columns = train_data.columns)\n",
    "print(train_data.head())"
   ]
  },
  {
   "cell_type": "code",
   "execution_count": 8,
   "metadata": {
    "colab": {
     "base_uri": "https://localhost:8080/",
     "height": 156
    },
    "colab_type": "code",
    "id": "ufuFJaaf3fhS",
    "outputId": "b6129b05-4ffe-41c6-e25a-3ab0f3f3c2b4",
    "tags": []
   },
   "outputs": [
    {
     "name": "stdout",
     "output_type": "stream",
     "text": [
      "   id  cycle   sensor2   sensor3   sensor4   sensor7   sensor8   sensor9  \\\n",
      "0  21      1  0.310241  0.258121  0.479575  0.599034  0.257576  0.115274   \n",
      "1  21      2  0.319277  0.241770  0.376266  0.542673  0.196970  0.099390   \n",
      "2  21      3  0.379518  0.407456  0.449527  0.541063  0.318182  0.119357   \n",
      "3  21      4  0.388554  0.351864  0.459149  0.555556  0.227273  0.136588   \n",
      "4  21      5  0.301205  0.555265  0.324274  0.512077  0.212121  0.115543   \n",
      "\n",
      "   sensor11  sensor12  sensor13  sensor14  sensor15  sensor17  sensor20  \\\n",
      "0  0.351190  0.654584  0.264706  0.147280  0.358599  0.583333  0.589147   \n",
      "1  0.238095  0.575693  0.250000  0.104294  0.248557  0.333333  0.519380   \n",
      "2  0.345238  0.547974  0.352941  0.128754  0.463640  0.333333  0.426357   \n",
      "3  0.297619  0.665245  0.294118  0.135566  0.255483  0.416667  0.666667   \n",
      "4  0.428571  0.667377  0.323529  0.159872  0.606387  0.416667  0.573643   \n",
      "\n",
      "   sensor21  R_early  \n",
      "0  0.636841      125  \n",
      "1  0.463684      125  \n",
      "2  0.625380      125  \n",
      "3  0.723143      125  \n",
      "4  0.510218      125  \n"
     ]
    }
   ],
   "source": [
    "#Normalize the test set\n",
    "norm_test_df = pd.DataFrame(min_max_scaler.transform(test_data[cols_normalize]), \n",
    "                            columns=cols_normalize, \n",
    "                            index=test_data.index)\n",
    "test_join_df = test_data[test_data.columns.difference(cols_normalize)].join(norm_test_df)\n",
    "test_data = test_join_df.reindex(columns = test_data.columns)\n",
    "test_data = test_data.reset_index(drop=True)\n",
    "print(test_data.head())"
   ]
  },
  {
   "cell_type": "code",
   "execution_count": 9,
   "metadata": {
    "colab": {
     "base_uri": "https://localhost:8080/",
     "height": 222
    },
    "colab_type": "code",
    "id": "O2AUsg-t3fhU",
    "outputId": "2e7b5221-83ec-4b17-8924-d9673df25fa5"
   },
   "outputs": [
    {
     "data": {
      "text/html": [
       "<div>\n",
       "<style scoped>\n",
       "    .dataframe tbody tr th:only-of-type {\n",
       "        vertical-align: middle;\n",
       "    }\n",
       "\n",
       "    .dataframe tbody tr th {\n",
       "        vertical-align: top;\n",
       "    }\n",
       "\n",
       "    .dataframe thead th {\n",
       "        text-align: right;\n",
       "    }\n",
       "</style>\n",
       "<table border=\"1\" class=\"dataframe\">\n",
       "  <thead>\n",
       "    <tr style=\"text-align: right;\">\n",
       "      <th></th>\n",
       "      <th>id</th>\n",
       "      <th>cycle</th>\n",
       "      <th>sensor2</th>\n",
       "      <th>sensor3</th>\n",
       "      <th>sensor4</th>\n",
       "      <th>sensor7</th>\n",
       "      <th>sensor8</th>\n",
       "      <th>sensor9</th>\n",
       "      <th>sensor11</th>\n",
       "      <th>sensor12</th>\n",
       "      <th>sensor13</th>\n",
       "      <th>sensor14</th>\n",
       "      <th>sensor15</th>\n",
       "      <th>sensor17</th>\n",
       "      <th>sensor20</th>\n",
       "      <th>sensor21</th>\n",
       "      <th>R_early</th>\n",
       "    </tr>\n",
       "  </thead>\n",
       "  <tbody>\n",
       "    <tr>\n",
       "      <th>0</th>\n",
       "      <td>1</td>\n",
       "      <td>1</td>\n",
       "      <td>0.183735</td>\n",
       "      <td>0.406802</td>\n",
       "      <td>0.309757</td>\n",
       "      <td>0.726248</td>\n",
       "      <td>0.242424</td>\n",
       "      <td>0.109755</td>\n",
       "      <td>0.369048</td>\n",
       "      <td>0.633262</td>\n",
       "      <td>0.205882</td>\n",
       "      <td>0.199608</td>\n",
       "      <td>0.363986</td>\n",
       "      <td>0.333333</td>\n",
       "      <td>0.713178</td>\n",
       "      <td>0.724662</td>\n",
       "      <td>125</td>\n",
       "    </tr>\n",
       "    <tr>\n",
       "      <th>1</th>\n",
       "      <td>1</td>\n",
       "      <td>2</td>\n",
       "      <td>0.283133</td>\n",
       "      <td>0.453019</td>\n",
       "      <td>0.352633</td>\n",
       "      <td>0.628019</td>\n",
       "      <td>0.212121</td>\n",
       "      <td>0.100242</td>\n",
       "      <td>0.380952</td>\n",
       "      <td>0.765458</td>\n",
       "      <td>0.279412</td>\n",
       "      <td>0.162813</td>\n",
       "      <td>0.411312</td>\n",
       "      <td>0.333333</td>\n",
       "      <td>0.666667</td>\n",
       "      <td>0.731014</td>\n",
       "      <td>125</td>\n",
       "    </tr>\n",
       "    <tr>\n",
       "      <th>2</th>\n",
       "      <td>1</td>\n",
       "      <td>3</td>\n",
       "      <td>0.343373</td>\n",
       "      <td>0.369523</td>\n",
       "      <td>0.370527</td>\n",
       "      <td>0.710145</td>\n",
       "      <td>0.272727</td>\n",
       "      <td>0.140043</td>\n",
       "      <td>0.250000</td>\n",
       "      <td>0.795309</td>\n",
       "      <td>0.220588</td>\n",
       "      <td>0.171793</td>\n",
       "      <td>0.357445</td>\n",
       "      <td>0.166667</td>\n",
       "      <td>0.627907</td>\n",
       "      <td>0.621375</td>\n",
       "      <td>125</td>\n",
       "    </tr>\n",
       "    <tr>\n",
       "      <th>3</th>\n",
       "      <td>1</td>\n",
       "      <td>4</td>\n",
       "      <td>0.343373</td>\n",
       "      <td>0.256159</td>\n",
       "      <td>0.331195</td>\n",
       "      <td>0.740741</td>\n",
       "      <td>0.318182</td>\n",
       "      <td>0.124518</td>\n",
       "      <td>0.166667</td>\n",
       "      <td>0.889126</td>\n",
       "      <td>0.294118</td>\n",
       "      <td>0.174889</td>\n",
       "      <td>0.166603</td>\n",
       "      <td>0.333333</td>\n",
       "      <td>0.573643</td>\n",
       "      <td>0.662386</td>\n",
       "      <td>125</td>\n",
       "    </tr>\n",
       "    <tr>\n",
       "      <th>4</th>\n",
       "      <td>1</td>\n",
       "      <td>5</td>\n",
       "      <td>0.349398</td>\n",
       "      <td>0.257467</td>\n",
       "      <td>0.404625</td>\n",
       "      <td>0.668277</td>\n",
       "      <td>0.242424</td>\n",
       "      <td>0.149960</td>\n",
       "      <td>0.255952</td>\n",
       "      <td>0.746269</td>\n",
       "      <td>0.235294</td>\n",
       "      <td>0.174734</td>\n",
       "      <td>0.402078</td>\n",
       "      <td>0.416667</td>\n",
       "      <td>0.589147</td>\n",
       "      <td>0.704502</td>\n",
       "      <td>125</td>\n",
       "    </tr>\n",
       "  </tbody>\n",
       "</table>\n",
       "</div>"
      ],
      "text/plain": [
       "   id  cycle   sensor2   sensor3   sensor4   sensor7   sensor8   sensor9  \\\n",
       "0   1      1  0.183735  0.406802  0.309757  0.726248  0.242424  0.109755   \n",
       "1   1      2  0.283133  0.453019  0.352633  0.628019  0.212121  0.100242   \n",
       "2   1      3  0.343373  0.369523  0.370527  0.710145  0.272727  0.140043   \n",
       "3   1      4  0.343373  0.256159  0.331195  0.740741  0.318182  0.124518   \n",
       "4   1      5  0.349398  0.257467  0.404625  0.668277  0.242424  0.149960   \n",
       "\n",
       "   sensor11  sensor12  sensor13  sensor14  sensor15  sensor17  sensor20  \\\n",
       "0  0.369048  0.633262  0.205882  0.199608  0.363986  0.333333  0.713178   \n",
       "1  0.380952  0.765458  0.279412  0.162813  0.411312  0.333333  0.666667   \n",
       "2  0.250000  0.795309  0.220588  0.171793  0.357445  0.166667  0.627907   \n",
       "3  0.166667  0.889126  0.294118  0.174889  0.166603  0.333333  0.573643   \n",
       "4  0.255952  0.746269  0.235294  0.174734  0.402078  0.416667  0.589147   \n",
       "\n",
       "   sensor21  R_early  \n",
       "0  0.724662      125  \n",
       "1  0.731014      125  \n",
       "2  0.621375      125  \n",
       "3  0.662386      125  \n",
       "4  0.704502      125  "
      ]
     },
     "execution_count": 9,
     "metadata": {},
     "output_type": "execute_result"
    }
   ],
   "source": [
    "train_data.head()"
   ]
  },
  {
   "cell_type": "code",
   "execution_count": 8,
   "metadata": {
    "colab": {},
    "colab_type": "code",
    "id": "VcOtE7qd3fhX"
   },
   "outputs": [],
   "source": []
  },
  {
   "cell_type": "code",
   "execution_count": 10,
   "metadata": {
    "colab": {},
    "colab_type": "code",
    "id": "wQg377Tr3fhZ"
   },
   "outputs": [],
   "source": [
    "# Sliding window size of 40 cycles\n",
    "sequence_length = 40\n",
    "\n",
    "# function to reshape features into (samples, time steps, features) \n",
    "\n",
    "def gen_sequence(id_df, seq_length, seq_cols):\n",
    "\n",
    "    data_matrix = id_df[seq_cols].values\n",
    "    num_elements = data_matrix.shape[0]\n",
    "\n",
    "    for start, stop in zip(range(0, num_elements-seq_length),\n",
    "                           range(seq_length, num_elements)):\n",
    "        yield data_matrix[start:stop, :]"
   ]
  },
  {
   "cell_type": "code",
   "execution_count": 11,
   "metadata": {
    "colab": {
     "base_uri": "https://localhost:8080/",
     "height": 35
    },
    "colab_type": "code",
    "id": "V4GeRGbU3fhc",
    "outputId": "8199ea23-fd2e-4a2e-fe0c-df173fdc7da3",
    "tags": []
   },
   "outputs": [
    {
     "name": "stdout",
     "output_type": "stream",
     "text": [
      "(16631, 40, 14)\n"
     ]
    }
   ],
   "source": [
    "#  Select useful sensors only feature columns\n",
    "sequence_cols = ['sensor2','sensor3','sensor4','sensor7','sensor8','sensor9',\n",
    "                 'sensor11','sensor12','sensor13','sensor14','sensor15',\n",
    "                 'sensor17','sensor20','sensor21']\n",
    "\n",
    "# generator for the sequences\n",
    "# transform each id of the train dataset in a sequence\n",
    "seq_gen = (list(gen_sequence(train_data[train_data['id']==id], \n",
    "                             sequence_length, sequence_cols)) \n",
    "           for id in train_data['id'].unique())\n",
    "\n",
    "# generate sequences and convert to numpy array\n",
    "seq_array = np.concatenate(list(seq_gen)).astype(np.float32)\n",
    "print(seq_array.shape)\n"
   ]
  },
  {
   "cell_type": "code",
   "execution_count": 12,
   "metadata": {
    "colab": {
     "base_uri": "https://localhost:8080/",
     "height": 35
    },
    "colab_type": "code",
    "id": "bCTPbJyy3fhf",
    "outputId": "5393e806-17c7-40c0-cf3e-fac085edf1ed"
   },
   "outputs": [
    {
     "data": {
      "text/plain": [
       "(16631, 1)"
      ]
     },
     "execution_count": 12,
     "metadata": {},
     "output_type": "execute_result"
    }
   ],
   "source": [
    "# function to generate labels\n",
    "def gen_labels(id_df, seq_length, label):\n",
    "\n",
    "    data_matrix = id_df[label].values\n",
    "    num_elements = data_matrix.shape[0]\n",
    "\n",
    "    return data_matrix[seq_length:num_elements, :]\n",
    "\n",
    "# generate labels\n",
    "label_gen = [gen_labels(train_data[train_data['id']==id], sequence_length,\n",
    "                        ['R_early']) \n",
    "             for id in train_data['id'].unique()]\n",
    "\n",
    "label_array = np.concatenate(label_gen).astype(np.float32)\n",
    "label_array.shape"
   ]
  },
  {
   "cell_type": "code",
   "execution_count": 13,
   "metadata": {
    "colab": {},
    "colab_type": "code",
    "id": "1ubzfn753fhi"
   },
   "outputs": [],
   "source": [
    "# Metrics using keras backend\n",
    "def r2_keras(y_true, y_pred):\n",
    "    \"\"\"Coefficient of Determination \n",
    "    \"\"\"\n",
    "    SS_res =  K.sum(K.square( y_true - y_pred ))\n",
    "    SS_tot = K.sum(K.square( y_true - K.mean(y_true) ) )\n",
    "    return ( 1 - SS_res/(SS_tot + K.epsilon()) )\n",
    "\n",
    "def rmse(y_true, y_pred):\n",
    "    return K.sqrt(K.mean(K.square(y_pred - y_true), axis=-1))"
   ]
  },
  {
   "cell_type": "code",
   "execution_count": 14,
   "metadata": {
    "colab": {},
    "colab_type": "code",
    "id": "9tHNGc3m3fhk"
   },
   "outputs": [],
   "source": [
    "nb_features = seq_array.shape[2]\n",
    "nb_out = label_array.shape[1]"
   ]
  },
  {
   "cell_type": "markdown",
   "metadata": {
    "colab_type": "text",
    "id": "Tmgn10YAdrFk"
   },
   "source": [
    "# Create Model"
   ]
  },
  {
   "cell_type": "code",
   "execution_count": 29,
   "metadata": {
    "colab": {},
    "colab_type": "code",
    "id": "WGJIN-Hb3fhr",
    "tags": []
   },
   "outputs": [
    {
     "name": "stdout",
     "output_type": "stream",
     "text": [
      "Model: \"sequential\"\n",
      "_________________________________________________________________\n",
      " Layer (type)                Output Shape              Param #   \n",
      "=================================================================\n",
      " conv1d (Conv1D)             (None, 40, 32)            3616      \n",
      "                                                                 \n",
      " conv1d_1 (Conv1D)           (None, 40, 64)            16448     \n",
      "                                                                 \n",
      " conv1d_2 (Conv1D)           (None, 40, 64)            32832     \n",
      "                                                                 \n",
      " conv1d_3 (Conv1D)           (None, 40, 32)            16416     \n",
      "                                                                 \n",
      " global_max_pooling1d (Globa  (None, 32)               0         \n",
      " lMaxPooling1D)                                                  \n",
      "                                                                 \n",
      " dropout (Dropout)           (None, 32)                0         \n",
      "                                                                 \n",
      " dense (Dense)               (None, 100)               3300      \n",
      "                                                                 \n",
      " dropout_1 (Dropout)         (None, 100)               0         \n",
      "                                                                 \n",
      " dense_1 (Dense)             (None, 1)                 101       \n",
      "                                                                 \n",
      "=================================================================\n",
      "Total params: 72,713\n",
      "Trainable params: 72,713\n",
      "Non-trainable params: 0\n",
      "_________________________________________________________________\n",
      "You must install pydot (`pip install pydot`) and install graphviz (see instructions at https://graphviz.gitlab.io/download/) for plot_model to work.\n"
     ]
    }
   ],
   "source": [
    "# Clear artifacts and set random seed to ensure repeatability\n",
    "keras.backend.clear_session()\n",
    "np.random.seed(42)\n",
    "\n",
    "# Define metrics\n",
    "def rmse(y_true, y_pred):\n",
    "    return keras.backend.sqrt(keras.backend.mean(keras.backend.square(y_pred - y_true)))\n",
    "\n",
    "def r2_keras(y_true, y_pred):\n",
    "    ss_total = keras.backend.sum(keras.backend.square(y_true - keras.backend.mean(y_true)))\n",
    "    ss_residual = keras.backend.sum(keras.backend.square(y_true - y_pred))\n",
    "    return 1 - (ss_residual / (ss_total + keras.backend.epsilon()))\n",
    "\n",
    "# Create model\n",
    "def DCNN(sequence_length, nb_features, nb_out):\n",
    "    model = Sequential()\n",
    "    model.add(Conv1D(32, 8, padding='same', activation='relu',\n",
    "                     input_shape=(sequence_length, nb_features)))\n",
    "    model.add(Conv1D(64, 8, padding='same', activation='relu'))\n",
    "    model.add(Conv1D(64, 8, padding='same', activation='relu'))\n",
    "    model.add(Conv1D(32, 8, padding='same', activation='relu'))\n",
    "    model.add(GlobalMaxPooling1D())\n",
    "    model.add(Dropout(0.5))\n",
    "    model.add(Dense(100, activation='linear'))\n",
    "    model.add(Dropout(0.2))\n",
    "    model.add(Dense(units=nb_out))\n",
    "    \n",
    "    optimizer = RMSprop(learning_rate=1e-5)\n",
    "    model.compile(loss=Huber(),\n",
    "                  optimizer=optimizer,\n",
    "                  metrics=[rmse, r2_keras])\n",
    "    \n",
    "    return model\n",
    "\n",
    "# Create model checkpoint to save the best model performance\n",
    "model_checkpoint = ModelCheckpoint(\"my_checkpoint.h5\", save_best_only=True)\n",
    "\n",
    "# Specify early stopping to stop training if there's no improvement after 10 epochs\n",
    "early_stopping = EarlyStopping(patience=10)\n",
    "\n",
    "# Example usage\n",
    "sequence_length = 40  # Example value\n",
    "nb_features = 14        # Example value\n",
    "nb_out = 1              # Example value\n",
    "\n",
    "# Create the model\n",
    "New_DCNN = DCNN(sequence_length, nb_features, nb_out)\n",
    "New_DCNN.summary()\n",
    "\n",
    "# `rankdir='LR'` is to make the graph horizontal.\n",
    "keras.utils.plot_model(New_DCNN, show_shapes=True, rankdir=\"LR\")"
   ]
  },
  {
   "cell_type": "code",
   "execution_count": 30,
   "metadata": {
    "colab": {
     "base_uri": "https://localhost:8080/",
     "height": 1000
    },
    "colab_type": "code",
    "id": "-QK_Npfo3fh1",
    "outputId": "762b5e59-41c7-4135-d015-7b7e908e289a",
    "tags": []
   },
   "outputs": [
    {
     "name": "stdout",
     "output_type": "stream",
     "text": [
      "Epoch 1/500\n",
      "67/67 [==============================] - 3s 20ms/step - loss: 76.0478 - rmse: 86.9969 - r2_keras: -3.4520 - val_loss: 81.4917 - val_rmse: 90.0860 - val_r2_keras: -8.7608\n",
      "Epoch 2/500\n",
      "67/67 [==============================] - 1s 14ms/step - loss: 75.7450 - rmse: 86.7992 - r2_keras: -3.4347 - val_loss: 81.1458 - val_rmse: 89.7803 - val_r2_keras: -8.7001\n",
      "Epoch 3/500\n",
      "67/67 [==============================] - 1s 15ms/step - loss: 75.3287 - rmse: 86.3610 - r2_keras: -3.3875 - val_loss: 80.6494 - val_rmse: 89.3387 - val_r2_keras: -8.6127\n",
      "Epoch 4/500\n",
      "67/67 [==============================] - 1s 15ms/step - loss: 74.7307 - rmse: 85.8343 - r2_keras: -3.3283 - val_loss: 79.9360 - val_rmse: 88.6986 - val_r2_keras: -8.4865\n",
      "Epoch 5/500\n",
      "67/67 [==============================] - 1s 17ms/step - loss: 73.8807 - rmse: 85.1358 - r2_keras: -3.2526 - val_loss: 78.9108 - val_rmse: 87.7697 - val_r2_keras: -8.3046\n",
      "Epoch 6/500\n",
      "67/67 [==============================] - 1s 17ms/step - loss: 72.6309 - rmse: 84.0111 - r2_keras: -3.1505 - val_loss: 77.4349 - val_rmse: 86.4128 - val_r2_keras: -8.0419\n",
      "Epoch 7/500\n",
      "67/67 [==============================] - 1s 17ms/step - loss: 70.9303 - rmse: 82.4974 - r2_keras: -3.0034 - val_loss: 75.4062 - val_rmse: 84.5036 - val_r2_keras: -7.6777\n",
      "Epoch 8/500\n",
      "67/67 [==============================] - 1s 15ms/step - loss: 68.5812 - rmse: 80.2580 - r2_keras: -2.7873 - val_loss: 72.6470 - val_rmse: 81.8207 - val_r2_keras: -7.1763\n",
      "Epoch 9/500\n",
      "67/67 [==============================] - 1s 16ms/step - loss: 65.4998 - rmse: 77.2747 - r2_keras: -2.5212 - val_loss: 69.0237 - val_rmse: 78.1454 - val_r2_keras: -6.5084\n",
      "Epoch 10/500\n",
      "67/67 [==============================] - 1s 15ms/step - loss: 61.5623 - rmse: 73.1493 - r2_keras: -2.1532 - val_loss: 64.4471 - val_rmse: 73.2549 - val_r2_keras: -5.6523\n",
      "Epoch 11/500\n",
      "67/67 [==============================] - 1s 15ms/step - loss: 56.9408 - rmse: 68.0614 - r2_keras: -1.7327 - val_loss: 59.0549 - val_rmse: 67.1285 - val_r2_keras: -4.6283\n",
      "Epoch 12/500\n",
      "67/67 [==============================] - 1s 15ms/step - loss: 51.9418 - rmse: 62.0617 - r2_keras: -1.2597 - val_loss: 53.1576 - val_rmse: 59.9999 - val_r2_keras: -3.4902\n",
      "Epoch 13/500\n",
      "67/67 [==============================] - 1s 16ms/step - loss: 47.3941 - rmse: 55.9798 - r2_keras: -0.8427 - val_loss: 47.6197 - val_rmse: 53.0774 - val_r2_keras: -2.4021\n",
      "Epoch 14/500\n",
      "67/67 [==============================] - 1s 15ms/step - loss: 43.7682 - rmse: 51.5000 - r2_keras: -0.5562 - val_loss: 43.5713 - val_rmse: 48.3649 - val_r2_keras: -1.6092\n",
      "Epoch 15/500\n",
      "67/67 [==============================] - 1s 16ms/step - loss: 42.3071 - rmse: 49.9150 - r2_keras: -0.4592 - val_loss: 41.5958 - val_rmse: 46.3980 - val_r2_keras: -1.2613\n",
      "Epoch 16/500\n",
      "67/67 [==============================] - 1s 15ms/step - loss: 41.3442 - rmse: 49.0738 - r2_keras: -0.4110 - val_loss: 40.6983 - val_rmse: 45.4604 - val_r2_keras: -1.1401\n",
      "Epoch 17/500\n",
      "67/67 [==============================] - 1s 15ms/step - loss: 40.7813 - rmse: 48.2858 - r2_keras: -0.3701 - val_loss: 39.9283 - val_rmse: 44.6232 - val_r2_keras: -1.0463\n",
      "Epoch 18/500\n",
      "67/67 [==============================] - 1s 15ms/step - loss: 40.2525 - rmse: 47.8966 - r2_keras: -0.3425 - val_loss: 39.3026 - val_rmse: 43.8745 - val_r2_keras: -0.9864\n",
      "Epoch 19/500\n",
      "67/67 [==============================] - 1s 15ms/step - loss: 39.6103 - rmse: 47.2061 - r2_keras: -0.3078 - val_loss: 38.5027 - val_rmse: 42.9915 - val_r2_keras: -0.8954\n",
      "Epoch 20/500\n",
      "67/67 [==============================] - 1s 19ms/step - loss: 38.6944 - rmse: 45.9437 - r2_keras: -0.2403 - val_loss: 37.7654 - val_rmse: 42.1528 - val_r2_keras: -0.8195\n",
      "Epoch 21/500\n",
      "67/67 [==============================] - 1s 21ms/step - loss: 38.2496 - rmse: 45.4696 - r2_keras: -0.2113 - val_loss: 37.1337 - val_rmse: 41.3872 - val_r2_keras: -0.7685\n",
      "Epoch 22/500\n",
      "67/67 [==============================] - 1s 22ms/step - loss: 37.5199 - rmse: 44.7983 - r2_keras: -0.1766 - val_loss: 36.4019 - val_rmse: 40.5471 - val_r2_keras: -0.7018\n",
      "Epoch 23/500\n",
      "67/67 [==============================] - 2s 23ms/step - loss: 36.5884 - rmse: 43.5994 - r2_keras: -0.1170 - val_loss: 35.3879 - val_rmse: 39.4554 - val_r2_keras: -0.5938\n",
      "Epoch 24/500\n",
      "67/67 [==============================] - 1s 21ms/step - loss: 36.2046 - rmse: 43.2226 - r2_keras: -0.0969 - val_loss: 34.7432 - val_rmse: 38.6880 - val_r2_keras: -0.5520\n",
      "Epoch 25/500\n",
      "67/67 [==============================] - 1s 21ms/step - loss: 35.2738 - rmse: 42.2596 - r2_keras: -0.0469 - val_loss: 34.0549 - val_rmse: 37.8936 - val_r2_keras: -0.5081\n",
      "Epoch 26/500\n",
      "67/67 [==============================] - 1s 20ms/step - loss: 34.7124 - rmse: 41.5676 - r2_keras: -0.0161 - val_loss: 32.9003 - val_rmse: 36.6592 - val_r2_keras: -0.3944\n",
      "Epoch 27/500\n",
      "67/67 [==============================] - 1s 18ms/step - loss: 33.9254 - rmse: 40.6612 - r2_keras: 0.0297 - val_loss: 32.1181 - val_rmse: 35.7739 - val_r2_keras: -0.3480\n",
      "Epoch 28/500\n",
      "67/67 [==============================] - 1s 14ms/step - loss: 33.3579 - rmse: 40.1516 - r2_keras: 0.0521 - val_loss: 31.4471 - val_rmse: 35.0300 - val_r2_keras: -0.3169\n",
      "Epoch 29/500\n",
      "67/67 [==============================] - 1s 14ms/step - loss: 32.8791 - rmse: 39.6197 - r2_keras: 0.0764 - val_loss: 30.6014 - val_rmse: 34.1232 - val_r2_keras: -0.2663\n",
      "Epoch 30/500\n",
      "67/67 [==============================] - 1s 14ms/step - loss: 32.1173 - rmse: 38.8746 - r2_keras: 0.1127 - val_loss: 29.7682 - val_rmse: 33.2503 - val_r2_keras: -0.2189\n",
      "Epoch 31/500\n",
      "67/67 [==============================] - 1s 14ms/step - loss: 31.2881 - rmse: 38.1692 - r2_keras: 0.1436 - val_loss: 28.8902 - val_rmse: 32.3462 - val_r2_keras: -0.1673\n",
      "Epoch 32/500\n",
      "67/67 [==============================] - 1s 14ms/step - loss: 30.7936 - rmse: 37.6583 - r2_keras: 0.1658 - val_loss: 28.2081 - val_rmse: 31.6878 - val_r2_keras: -0.1396\n",
      "Epoch 33/500\n",
      "67/67 [==============================] - 1s 16ms/step - loss: 30.6004 - rmse: 37.6004 - r2_keras: 0.1682 - val_loss: 27.3756 - val_rmse: 30.8440 - val_r2_keras: -0.0872\n",
      "Epoch 34/500\n",
      "67/67 [==============================] - 1s 17ms/step - loss: 29.8262 - rmse: 36.9281 - r2_keras: 0.1982 - val_loss: 27.1036 - val_rmse: 30.6756 - val_r2_keras: -0.1013\n",
      "Epoch 35/500\n",
      "67/67 [==============================] - 1s 16ms/step - loss: 29.7110 - rmse: 36.9779 - r2_keras: 0.1985 - val_loss: 26.9121 - val_rmse: 30.5681 - val_r2_keras: -0.1138\n",
      "Epoch 36/500\n",
      "67/67 [==============================] - 1s 16ms/step - loss: 29.3550 - rmse: 36.6076 - r2_keras: 0.2126 - val_loss: 26.2209 - val_rmse: 29.8100 - val_r2_keras: -0.0553\n",
      "Epoch 37/500\n",
      "67/67 [==============================] - 1s 14ms/step - loss: 28.8753 - rmse: 36.0698 - r2_keras: 0.2357 - val_loss: 26.2720 - val_rmse: 29.9370 - val_r2_keras: -0.0804\n",
      "Epoch 38/500\n",
      "67/67 [==============================] - 1s 15ms/step - loss: 28.8226 - rmse: 36.1854 - r2_keras: 0.2291 - val_loss: 25.9339 - val_rmse: 29.5739 - val_r2_keras: -0.0564\n",
      "Epoch 39/500\n",
      "67/67 [==============================] - 1s 13ms/step - loss: 28.8179 - rmse: 36.2152 - r2_keras: 0.2277 - val_loss: 26.0242 - val_rmse: 29.7081 - val_r2_keras: -0.0774\n",
      "Epoch 40/500\n",
      "67/67 [==============================] - 1s 14ms/step - loss: 28.5586 - rmse: 36.0356 - r2_keras: 0.2344 - val_loss: 25.0757 - val_rmse: 28.6089 - val_r2_keras: 0.0193\n",
      "Epoch 41/500\n",
      "67/67 [==============================] - 1s 21ms/step - loss: 28.3540 - rmse: 35.7244 - r2_keras: 0.2479 - val_loss: 25.4746 - val_rmse: 29.0737 - val_r2_keras: -0.0312\n",
      "Epoch 42/500\n",
      "67/67 [==============================] - 1s 21ms/step - loss: 28.1129 - rmse: 35.6220 - r2_keras: 0.2542 - val_loss: 25.0638 - val_rmse: 28.5966 - val_r2_keras: 0.0069\n",
      "Epoch 43/500\n",
      "67/67 [==============================] - 1s 19ms/step - loss: 28.1207 - rmse: 35.5416 - r2_keras: 0.2583 - val_loss: 25.0445 - val_rmse: 28.5729 - val_r2_keras: 0.0021\n",
      "Epoch 44/500\n",
      "67/67 [==============================] - 1s 20ms/step - loss: 28.0272 - rmse: 35.5068 - r2_keras: 0.2573 - val_loss: 24.9668 - val_rmse: 28.4759 - val_r2_keras: 0.0065\n",
      "Epoch 45/500\n",
      "67/67 [==============================] - 1s 20ms/step - loss: 27.7327 - rmse: 35.1972 - r2_keras: 0.2705 - val_loss: 24.7649 - val_rmse: 28.2454 - val_r2_keras: 0.0208\n",
      "Epoch 46/500\n",
      "67/67 [==============================] - 1s 21ms/step - loss: 27.2355 - rmse: 34.6125 - r2_keras: 0.2966 - val_loss: 25.0312 - val_rmse: 28.5641 - val_r2_keras: -0.0130\n",
      "Epoch 47/500\n",
      "67/67 [==============================] - 2s 24ms/step - loss: 27.3744 - rmse: 34.9004 - r2_keras: 0.2811 - val_loss: 24.8840 - val_rmse: 28.3811 - val_r2_keras: 2.3802e-04\n",
      "Epoch 48/500\n",
      "67/67 [==============================] - 1s 17ms/step - loss: 26.9977 - rmse: 34.4414 - r2_keras: 0.3019 - val_loss: 24.2961 - val_rmse: 27.6954 - val_r2_keras: 0.0552\n",
      "Epoch 49/500\n",
      "67/67 [==============================] - 1s 16ms/step - loss: 26.8213 - rmse: 34.3313 - r2_keras: 0.3061 - val_loss: 24.1891 - val_rmse: 27.5769 - val_r2_keras: 0.0602\n",
      "Epoch 50/500\n",
      "67/67 [==============================] - 1s 16ms/step - loss: 26.6903 - rmse: 33.9929 - r2_keras: 0.3193 - val_loss: 23.9135 - val_rmse: 27.2511 - val_r2_keras: 0.0832\n",
      "Epoch 51/500\n",
      "67/67 [==============================] - 1s 15ms/step - loss: 26.6402 - rmse: 33.9932 - r2_keras: 0.3198 - val_loss: 23.9271 - val_rmse: 27.2860 - val_r2_keras: 0.0754\n",
      "Epoch 52/500\n",
      "67/67 [==============================] - 1s 15ms/step - loss: 26.3367 - rmse: 33.6714 - r2_keras: 0.3324 - val_loss: 23.9117 - val_rmse: 27.2808 - val_r2_keras: 0.0726\n",
      "Epoch 53/500\n",
      "67/67 [==============================] - 1s 15ms/step - loss: 26.1233 - rmse: 33.5050 - r2_keras: 0.3395 - val_loss: 23.6462 - val_rmse: 26.9721 - val_r2_keras: 0.0953\n",
      "Epoch 54/500\n",
      "67/67 [==============================] - 1s 14ms/step - loss: 25.7017 - rmse: 32.9496 - r2_keras: 0.3606 - val_loss: 23.5748 - val_rmse: 26.9016 - val_r2_keras: 0.0982\n",
      "Epoch 55/500\n",
      "67/67 [==============================] - 1s 14ms/step - loss: 25.6618 - rmse: 33.0144 - r2_keras: 0.3571 - val_loss: 23.5763 - val_rmse: 26.9348 - val_r2_keras: 0.0907\n",
      "Epoch 56/500\n",
      "67/67 [==============================] - 1s 15ms/step - loss: 25.4282 - rmse: 32.8019 - r2_keras: 0.3661 - val_loss: 23.2341 - val_rmse: 26.5392 - val_r2_keras: 0.1206\n",
      "Epoch 57/500\n",
      "67/67 [==============================] - 1s 15ms/step - loss: 25.3532 - rmse: 32.8283 - r2_keras: 0.3664 - val_loss: 23.4665 - val_rmse: 26.8519 - val_r2_keras: 0.0908\n",
      "Epoch 58/500\n",
      "67/67 [==============================] - 1s 15ms/step - loss: 25.2948 - rmse: 32.6651 - r2_keras: 0.3722 - val_loss: 23.1875 - val_rmse: 26.5363 - val_r2_keras: 0.1145\n",
      "Epoch 59/500\n",
      "67/67 [==============================] - 1s 15ms/step - loss: 24.9827 - rmse: 32.3284 - r2_keras: 0.3857 - val_loss: 22.8004 - val_rmse: 26.1104 - val_r2_keras: 0.1465\n",
      "Epoch 60/500\n",
      "67/67 [==============================] - 1s 15ms/step - loss: 25.0099 - rmse: 32.3488 - r2_keras: 0.3825 - val_loss: 22.8567 - val_rmse: 26.2165 - val_r2_keras: 0.1327\n",
      "Epoch 61/500\n",
      "67/67 [==============================] - 1s 14ms/step - loss: 24.6411 - rmse: 32.0150 - r2_keras: 0.3951 - val_loss: 23.0623 - val_rmse: 26.4792 - val_r2_keras: 0.1048\n",
      "Epoch 62/500\n",
      "67/67 [==============================] - 1s 18ms/step - loss: 24.6465 - rmse: 32.0415 - r2_keras: 0.3964 - val_loss: 22.4260 - val_rmse: 25.7698 - val_r2_keras: 0.1613\n",
      "Epoch 63/500\n",
      "67/67 [==============================] - 1s 20ms/step - loss: 24.3801 - rmse: 31.7001 - r2_keras: 0.4085 - val_loss: 21.9284 - val_rmse: 25.2334 - val_r2_keras: 0.2024\n",
      "Epoch 64/500\n",
      "67/67 [==============================] - 1s 20ms/step - loss: 23.8732 - rmse: 31.0750 - r2_keras: 0.4296 - val_loss: 22.0450 - val_rmse: 25.3836 - val_r2_keras: 0.1791\n",
      "Epoch 65/500\n",
      "67/67 [==============================] - 1s 21ms/step - loss: 24.2013 - rmse: 31.4976 - r2_keras: 0.4152 - val_loss: 22.3598 - val_rmse: 25.7346 - val_r2_keras: 0.1343\n",
      "Epoch 66/500\n",
      "67/67 [==============================] - 1s 20ms/step - loss: 23.7614 - rmse: 31.1129 - r2_keras: 0.4293 - val_loss: 21.4377 - val_rmse: 24.7341 - val_r2_keras: 0.2106\n",
      "Epoch 67/500\n",
      "67/67 [==============================] - 1s 21ms/step - loss: 23.1886 - rmse: 30.4573 - r2_keras: 0.4541 - val_loss: 20.8198 - val_rmse: 24.0642 - val_r2_keras: 0.2544\n",
      "Epoch 68/500\n",
      "67/67 [==============================] - 1s 21ms/step - loss: 23.0533 - rmse: 30.2461 - r2_keras: 0.4607 - val_loss: 20.9956 - val_rmse: 24.2769 - val_r2_keras: 0.2177\n",
      "Epoch 69/500\n",
      "67/67 [==============================] - 1s 15ms/step - loss: 22.7327 - rmse: 29.9552 - r2_keras: 0.4705 - val_loss: 20.5506 - val_rmse: 23.7915 - val_r2_keras: 0.2478\n",
      "Epoch 70/500\n",
      "67/67 [==============================] - 1s 14ms/step - loss: 22.1118 - rmse: 29.2162 - r2_keras: 0.4977 - val_loss: 19.2632 - val_rmse: 22.3970 - val_r2_keras: 0.3638\n",
      "Epoch 71/500\n",
      "67/67 [==============================] - 1s 13ms/step - loss: 21.9405 - rmse: 28.9575 - r2_keras: 0.5054 - val_loss: 19.9113 - val_rmse: 23.1256 - val_r2_keras: 0.2875\n",
      "Epoch 72/500\n",
      "67/67 [==============================] - 1s 15ms/step - loss: 21.9132 - rmse: 29.1292 - r2_keras: 0.5006 - val_loss: 19.1960 - val_rmse: 22.3724 - val_r2_keras: 0.3471\n",
      "Epoch 73/500\n",
      "67/67 [==============================] - 1s 16ms/step - loss: 21.6750 - rmse: 28.8859 - r2_keras: 0.5073 - val_loss: 18.8133 - val_rmse: 21.9782 - val_r2_keras: 0.3776\n",
      "Epoch 74/500\n",
      "67/67 [==============================] - 1s 14ms/step - loss: 21.5600 - rmse: 28.6874 - r2_keras: 0.5144 - val_loss: 18.7925 - val_rmse: 21.9784 - val_r2_keras: 0.3746\n",
      "Epoch 75/500\n",
      "67/67 [==============================] - 1s 14ms/step - loss: 21.2388 - rmse: 28.2570 - r2_keras: 0.5295 - val_loss: 18.9327 - val_rmse: 22.1394 - val_r2_keras: 0.3594\n",
      "Epoch 76/500\n",
      "67/67 [==============================] - 1s 16ms/step - loss: 21.4226 - rmse: 28.5795 - r2_keras: 0.5193 - val_loss: 19.2521 - val_rmse: 22.5201 - val_r2_keras: 0.3272\n",
      "Epoch 77/500\n",
      "67/67 [==============================] - 1s 17ms/step - loss: 21.0294 - rmse: 28.2862 - r2_keras: 0.5284 - val_loss: 18.6551 - val_rmse: 21.8778 - val_r2_keras: 0.3795\n",
      "Epoch 78/500\n",
      "67/67 [==============================] - 1s 16ms/step - loss: 21.2420 - rmse: 28.3227 - r2_keras: 0.5255 - val_loss: 18.2893 - val_rmse: 21.4998 - val_r2_keras: 0.4106\n",
      "Epoch 79/500\n",
      "67/67 [==============================] - 1s 16ms/step - loss: 21.2663 - rmse: 28.5930 - r2_keras: 0.5172 - val_loss: 17.7388 - val_rmse: 20.9190 - val_r2_keras: 0.4594\n",
      "Epoch 80/500\n",
      "67/67 [==============================] - 1s 15ms/step - loss: 21.1718 - rmse: 28.4047 - r2_keras: 0.5240 - val_loss: 18.1451 - val_rmse: 21.3835 - val_r2_keras: 0.4193\n",
      "Epoch 81/500\n",
      "67/67 [==============================] - 1s 14ms/step - loss: 21.0178 - rmse: 28.2865 - r2_keras: 0.5281 - val_loss: 18.0666 - val_rmse: 21.3091 - val_r2_keras: 0.4248\n",
      "Epoch 82/500\n",
      "67/67 [==============================] - 1s 14ms/step - loss: 21.1153 - rmse: 28.5086 - r2_keras: 0.5204 - val_loss: 18.1472 - val_rmse: 21.4093 - val_r2_keras: 0.4162\n",
      "Epoch 83/500\n",
      "67/67 [==============================] - 1s 15ms/step - loss: 21.0292 - rmse: 28.2899 - r2_keras: 0.5265 - val_loss: 18.2060 - val_rmse: 21.4881 - val_r2_keras: 0.4097\n",
      "Epoch 84/500\n",
      "67/67 [==============================] - 1s 17ms/step - loss: 21.0658 - rmse: 28.2415 - r2_keras: 0.5301 - val_loss: 17.9578 - val_rmse: 21.2327 - val_r2_keras: 0.4304\n",
      "Epoch 85/500\n",
      "67/67 [==============================] - 1s 18ms/step - loss: 20.8414 - rmse: 28.0649 - r2_keras: 0.5354 - val_loss: 18.0734 - val_rmse: 21.3781 - val_r2_keras: 0.4184\n",
      "Epoch 86/500\n",
      "67/67 [==============================] - 1s 19ms/step - loss: 20.8259 - rmse: 27.9969 - r2_keras: 0.5383 - val_loss: 17.7024 - val_rmse: 20.9779 - val_r2_keras: 0.4503\n",
      "Epoch 87/500\n",
      "67/67 [==============================] - 1s 20ms/step - loss: 20.7409 - rmse: 27.9648 - r2_keras: 0.5392 - val_loss: 17.9851 - val_rmse: 21.3165 - val_r2_keras: 0.4237\n",
      "Epoch 88/500\n",
      "67/67 [==============================] - 1s 20ms/step - loss: 20.5662 - rmse: 27.8104 - r2_keras: 0.5433 - val_loss: 17.6845 - val_rmse: 20.9835 - val_r2_keras: 0.4490\n",
      "Epoch 89/500\n",
      "67/67 [==============================] - 1s 19ms/step - loss: 20.7659 - rmse: 28.0333 - r2_keras: 0.5355 - val_loss: 18.1218 - val_rmse: 21.4669 - val_r2_keras: 0.4099\n",
      "Epoch 90/500\n",
      "67/67 [==============================] - 2s 23ms/step - loss: 20.5969 - rmse: 27.7845 - r2_keras: 0.5464 - val_loss: 17.8207 - val_rmse: 21.1518 - val_r2_keras: 0.4349\n",
      "Epoch 91/500\n",
      "67/67 [==============================] - 1s 17ms/step - loss: 20.6104 - rmse: 27.8020 - r2_keras: 0.5449 - val_loss: 18.1042 - val_rmse: 21.4844 - val_r2_keras: 0.4090\n",
      "Epoch 92/500\n",
      "67/67 [==============================] - 1s 15ms/step - loss: 20.6432 - rmse: 27.8749 - r2_keras: 0.5431 - val_loss: 17.8724 - val_rmse: 21.2387 - val_r2_keras: 0.4281\n",
      "Epoch 93/500\n",
      "67/67 [==============================] - 1s 16ms/step - loss: 20.5171 - rmse: 27.7449 - r2_keras: 0.5449 - val_loss: 18.4289 - val_rmse: 21.8726 - val_r2_keras: 0.3794\n",
      "Epoch 94/500\n",
      "67/67 [==============================] - 1s 14ms/step - loss: 20.5035 - rmse: 27.7582 - r2_keras: 0.5450 - val_loss: 17.7429 - val_rmse: 21.1231 - val_r2_keras: 0.4372\n",
      "Epoch 95/500\n",
      "67/67 [==============================] - 1s 16ms/step - loss: 20.2858 - rmse: 27.5346 - r2_keras: 0.5524 - val_loss: 18.3446 - val_rmse: 21.7950 - val_r2_keras: 0.3847\n",
      "Epoch 96/500\n",
      "67/67 [==============================] - 1s 14ms/step - loss: 20.6044 - rmse: 27.8607 - r2_keras: 0.5406 - val_loss: 17.7191 - val_rmse: 21.1271 - val_r2_keras: 0.4366\n",
      "Epoch 97/500\n",
      "67/67 [==============================] - 1s 14ms/step - loss: 20.1880 - rmse: 27.4662 - r2_keras: 0.5551 - val_loss: 17.7290 - val_rmse: 21.1487 - val_r2_keras: 0.4346\n",
      "Epoch 98/500\n",
      "67/67 [==============================] - 1s 15ms/step - loss: 20.4586 - rmse: 27.6925 - r2_keras: 0.5469 - val_loss: 17.4830 - val_rmse: 20.8797 - val_r2_keras: 0.4549\n",
      "Epoch 99/500\n",
      "67/67 [==============================] - 1s 14ms/step - loss: 20.4237 - rmse: 27.6125 - r2_keras: 0.5486 - val_loss: 17.7863 - val_rmse: 21.2362 - val_r2_keras: 0.4272\n",
      "Epoch 100/500\n",
      "67/67 [==============================] - 1s 16ms/step - loss: 20.3307 - rmse: 27.6513 - r2_keras: 0.5493 - val_loss: 18.1206 - val_rmse: 21.6000 - val_r2_keras: 0.3986\n",
      "Epoch 101/500\n",
      "67/67 [==============================] - 1s 14ms/step - loss: 20.2775 - rmse: 27.5017 - r2_keras: 0.5542 - val_loss: 17.6694 - val_rmse: 21.1306 - val_r2_keras: 0.4360\n",
      "Epoch 102/500\n",
      "67/67 [==============================] - 1s 15ms/step - loss: 20.2783 - rmse: 27.4326 - r2_keras: 0.5548 - val_loss: 17.4805 - val_rmse: 20.9324 - val_r2_keras: 0.4513\n",
      "Epoch 103/500\n",
      "67/67 [==============================] - 1s 14ms/step - loss: 20.1915 - rmse: 27.4588 - r2_keras: 0.5565 - val_loss: 18.1026 - val_rmse: 21.6146 - val_r2_keras: 0.3981\n",
      "Epoch 104/500\n",
      "67/67 [==============================] - 1s 15ms/step - loss: 20.3855 - rmse: 27.6413 - r2_keras: 0.5483 - val_loss: 17.4235 - val_rmse: 20.8846 - val_r2_keras: 0.4543\n",
      "Epoch 105/500\n",
      "67/67 [==============================] - 1s 15ms/step - loss: 20.1761 - rmse: 27.4563 - r2_keras: 0.5558 - val_loss: 17.7956 - val_rmse: 21.3003 - val_r2_keras: 0.4220\n",
      "Epoch 106/500\n",
      "67/67 [==============================] - 1s 20ms/step - loss: 20.2255 - rmse: 27.4908 - r2_keras: 0.5528 - val_loss: 17.4342 - val_rmse: 20.9197 - val_r2_keras: 0.4517\n",
      "Epoch 107/500\n",
      "67/67 [==============================] - 1s 22ms/step - loss: 20.0875 - rmse: 27.4087 - r2_keras: 0.5565 - val_loss: 17.3456 - val_rmse: 20.8309 - val_r2_keras: 0.4585\n",
      "Epoch 108/500\n",
      "67/67 [==============================] - 1s 21ms/step - loss: 20.0351 - rmse: 27.2754 - r2_keras: 0.5621 - val_loss: 17.6355 - val_rmse: 21.1692 - val_r2_keras: 0.4329\n",
      "Epoch 109/500\n",
      "67/67 [==============================] - 1s 22ms/step - loss: 20.3145 - rmse: 27.6895 - r2_keras: 0.5470 - val_loss: 17.4074 - val_rmse: 20.9199 - val_r2_keras: 0.4514\n",
      "Epoch 110/500\n",
      "67/67 [==============================] - 1s 21ms/step - loss: 20.1354 - rmse: 27.4294 - r2_keras: 0.5567 - val_loss: 17.1727 - val_rmse: 20.6769 - val_r2_keras: 0.4708\n",
      "Epoch 111/500\n",
      "67/67 [==============================] - 1s 21ms/step - loss: 20.1874 - rmse: 27.3596 - r2_keras: 0.5575 - val_loss: 17.0837 - val_rmse: 20.5730 - val_r2_keras: 0.4776\n",
      "Epoch 112/500\n",
      "67/67 [==============================] - 1s 18ms/step - loss: 20.1878 - rmse: 27.4390 - r2_keras: 0.5557 - val_loss: 17.2012 - val_rmse: 20.7133 - val_r2_keras: 0.4665\n",
      "Epoch 113/500\n",
      "67/67 [==============================] - 1s 14ms/step - loss: 20.1347 - rmse: 27.4475 - r2_keras: 0.5553 - val_loss: 17.1268 - val_rmse: 20.6517 - val_r2_keras: 0.4724\n",
      "Epoch 114/500\n",
      "67/67 [==============================] - 1s 14ms/step - loss: 20.0933 - rmse: 27.4896 - r2_keras: 0.5545 - val_loss: 17.5594 - val_rmse: 21.1320 - val_r2_keras: 0.4344\n",
      "Epoch 115/500\n",
      "67/67 [==============================] - 1s 14ms/step - loss: 20.0827 - rmse: 27.3360 - r2_keras: 0.5588 - val_loss: 17.7171 - val_rmse: 21.2830 - val_r2_keras: 0.4210\n",
      "Epoch 116/500\n",
      "67/67 [==============================] - 1s 15ms/step - loss: 20.3865 - rmse: 27.6978 - r2_keras: 0.5466 - val_loss: 17.0465 - val_rmse: 20.5743 - val_r2_keras: 0.4769\n",
      "Epoch 117/500\n",
      "67/67 [==============================] - 1s 15ms/step - loss: 19.9244 - rmse: 27.0697 - r2_keras: 0.5683 - val_loss: 17.3087 - val_rmse: 20.8692 - val_r2_keras: 0.4537\n",
      "Epoch 118/500\n",
      "67/67 [==============================] - 1s 14ms/step - loss: 19.9298 - rmse: 27.1784 - r2_keras: 0.5640 - val_loss: 17.1900 - val_rmse: 20.7471 - val_r2_keras: 0.4633\n",
      "Epoch 119/500\n",
      "67/67 [==============================] - 1s 16ms/step - loss: 20.0539 - rmse: 27.5363 - r2_keras: 0.5524 - val_loss: 17.0767 - val_rmse: 20.6383 - val_r2_keras: 0.4725\n",
      "Epoch 120/500\n",
      "67/67 [==============================] - 1s 16ms/step - loss: 20.0306 - rmse: 27.2222 - r2_keras: 0.5627 - val_loss: 17.3465 - val_rmse: 20.9309 - val_r2_keras: 0.4491\n",
      "Epoch 121/500\n",
      "67/67 [==============================] - 1s 16ms/step - loss: 19.8241 - rmse: 26.9418 - r2_keras: 0.5707 - val_loss: 16.8973 - val_rmse: 20.4620 - val_r2_keras: 0.4867\n",
      "Epoch 122/500\n",
      "67/67 [==============================] - 1s 16ms/step - loss: 20.0560 - rmse: 27.2924 - r2_keras: 0.5593 - val_loss: 17.5974 - val_rmse: 21.2012 - val_r2_keras: 0.4270\n",
      "Epoch 123/500\n",
      "67/67 [==============================] - 1s 15ms/step - loss: 20.1318 - rmse: 27.4180 - r2_keras: 0.5559 - val_loss: 17.3642 - val_rmse: 20.9584 - val_r2_keras: 0.4456\n",
      "Epoch 124/500\n",
      "67/67 [==============================] - 1s 14ms/step - loss: 20.1980 - rmse: 27.4399 - r2_keras: 0.5563 - val_loss: 17.3143 - val_rmse: 20.9048 - val_r2_keras: 0.4489\n",
      "Epoch 125/500\n",
      "67/67 [==============================] - 1s 17ms/step - loss: 20.0376 - rmse: 27.3449 - r2_keras: 0.5604 - val_loss: 17.4312 - val_rmse: 21.0400 - val_r2_keras: 0.4391\n",
      "Epoch 126/500\n",
      "67/67 [==============================] - 1s 14ms/step - loss: 20.1793 - rmse: 27.5075 - r2_keras: 0.5543 - val_loss: 17.4299 - val_rmse: 21.0367 - val_r2_keras: 0.4387\n",
      "Epoch 127/500\n",
      "67/67 [==============================] - 1s 16ms/step - loss: 20.0674 - rmse: 27.3867 - r2_keras: 0.5575 - val_loss: 17.5086 - val_rmse: 21.1214 - val_r2_keras: 0.4321\n",
      "Epoch 128/500\n",
      "67/67 [==============================] - 1s 18ms/step - loss: 19.9521 - rmse: 27.4264 - r2_keras: 0.5562 - val_loss: 17.0551 - val_rmse: 20.6545 - val_r2_keras: 0.4692\n",
      "Epoch 129/500\n",
      "67/67 [==============================] - 1s 19ms/step - loss: 20.1558 - rmse: 27.4642 - r2_keras: 0.5539 - val_loss: 17.3207 - val_rmse: 20.9425 - val_r2_keras: 0.4468\n",
      "Epoch 130/500\n",
      "67/67 [==============================] - 1s 20ms/step - loss: 19.7589 - rmse: 26.9514 - r2_keras: 0.5709 - val_loss: 16.8636 - val_rmse: 20.4585 - val_r2_keras: 0.4843\n",
      "Epoch 131/500\n",
      "67/67 [==============================] - 1s 19ms/step - loss: 20.0602 - rmse: 27.3378 - r2_keras: 0.5600 - val_loss: 17.4313 - val_rmse: 21.0663 - val_r2_keras: 0.4367\n",
      "Epoch 132/500\n",
      "67/67 [==============================] - 1s 21ms/step - loss: 19.9258 - rmse: 27.2214 - r2_keras: 0.5640 - val_loss: 17.2880 - val_rmse: 20.9157 - val_r2_keras: 0.4475\n",
      "Epoch 133/500\n",
      "67/67 [==============================] - 2s 27ms/step - loss: 19.8524 - rmse: 27.2025 - r2_keras: 0.5646 - val_loss: 16.9139 - val_rmse: 20.5230 - val_r2_keras: 0.4786\n",
      "Epoch 134/500\n",
      "67/67 [==============================] - 1s 18ms/step - loss: 20.0246 - rmse: 27.3942 - r2_keras: 0.5575 - val_loss: 16.8314 - val_rmse: 20.4386 - val_r2_keras: 0.4852\n",
      "Epoch 135/500\n",
      "67/67 [==============================] - 1s 15ms/step - loss: 19.9774 - rmse: 27.2603 - r2_keras: 0.5624 - val_loss: 17.4629 - val_rmse: 21.1037 - val_r2_keras: 0.4328\n",
      "Epoch 136/500\n",
      "67/67 [==============================] - 1s 15ms/step - loss: 19.6917 - rmse: 26.9521 - r2_keras: 0.5709 - val_loss: 16.6546 - val_rmse: 20.2660 - val_r2_keras: 0.4998\n",
      "Epoch 137/500\n",
      "67/67 [==============================] - 1s 14ms/step - loss: 19.7947 - rmse: 26.9525 - r2_keras: 0.5712 - val_loss: 17.3434 - val_rmse: 20.9860 - val_r2_keras: 0.4419\n",
      "Epoch 138/500\n",
      "67/67 [==============================] - 1s 14ms/step - loss: 20.0572 - rmse: 27.3572 - r2_keras: 0.5594 - val_loss: 17.5540 - val_rmse: 21.1910 - val_r2_keras: 0.4247\n",
      "Epoch 139/500\n",
      "67/67 [==============================] - 1s 14ms/step - loss: 19.8309 - rmse: 27.0614 - r2_keras: 0.5692 - val_loss: 17.0435 - val_rmse: 20.6894 - val_r2_keras: 0.4658\n",
      "Epoch 140/500\n",
      "67/67 [==============================] - 1s 14ms/step - loss: 19.8436 - rmse: 27.1197 - r2_keras: 0.5654 - val_loss: 17.1442 - val_rmse: 20.7867 - val_r2_keras: 0.4568\n",
      "Epoch 141/500\n",
      "67/67 [==============================] - 1s 14ms/step - loss: 19.8218 - rmse: 27.1497 - r2_keras: 0.5653 - val_loss: 17.1172 - val_rmse: 20.7536 - val_r2_keras: 0.4586\n",
      "Epoch 142/500\n",
      "67/67 [==============================] - 1s 14ms/step - loss: 19.8366 - rmse: 27.1071 - r2_keras: 0.5672 - val_loss: 17.4832 - val_rmse: 21.1312 - val_r2_keras: 0.4291\n",
      "Epoch 143/500\n",
      "67/67 [==============================] - 1s 15ms/step - loss: 19.9763 - rmse: 27.2522 - r2_keras: 0.5608 - val_loss: 16.5855 - val_rmse: 20.2051 - val_r2_keras: 0.5026\n",
      "Epoch 144/500\n",
      "67/67 [==============================] - 1s 14ms/step - loss: 20.0096 - rmse: 27.3005 - r2_keras: 0.5611 - val_loss: 17.2971 - val_rmse: 20.9491 - val_r2_keras: 0.4430\n",
      "Epoch 145/500\n",
      "67/67 [==============================] - 1s 15ms/step - loss: 19.7132 - rmse: 26.9372 - r2_keras: 0.5713 - val_loss: 16.9277 - val_rmse: 20.5707 - val_r2_keras: 0.4728\n",
      "Epoch 146/500\n",
      "67/67 [==============================] - 1s 15ms/step - loss: 19.6518 - rmse: 26.8333 - r2_keras: 0.5754 - val_loss: 16.5464 - val_rmse: 20.1755 - val_r2_keras: 0.5049\n",
      "Epoch 147/500\n",
      "67/67 [==============================] - 1s 14ms/step - loss: 19.8055 - rmse: 27.0792 - r2_keras: 0.5670 - val_loss: 17.2892 - val_rmse: 20.9422 - val_r2_keras: 0.4431\n",
      "Epoch 148/500\n",
      "67/67 [==============================] - 1s 16ms/step - loss: 19.8910 - rmse: 27.1567 - r2_keras: 0.5645 - val_loss: 16.3036 - val_rmse: 19.9193 - val_r2_keras: 0.5259\n",
      "Epoch 149/500\n",
      "67/67 [==============================] - 1s 19ms/step - loss: 19.8306 - rmse: 27.1519 - r2_keras: 0.5659 - val_loss: 17.2713 - val_rmse: 20.9344 - val_r2_keras: 0.4436\n",
      "Epoch 150/500\n",
      "67/67 [==============================] - 1s 20ms/step - loss: 19.7418 - rmse: 27.0264 - r2_keras: 0.5695 - val_loss: 17.0442 - val_rmse: 20.7035 - val_r2_keras: 0.4612\n",
      "Epoch 151/500\n",
      "67/67 [==============================] - 2s 23ms/step - loss: 19.9608 - rmse: 27.2535 - r2_keras: 0.5614 - val_loss: 17.2832 - val_rmse: 20.9531 - val_r2_keras: 0.4420\n",
      "Epoch 152/500\n",
      "67/67 [==============================] - 1s 22ms/step - loss: 19.7759 - rmse: 26.9488 - r2_keras: 0.5717 - val_loss: 16.4608 - val_rmse: 20.0953 - val_r2_keras: 0.5102\n",
      "Epoch 153/500\n",
      "67/67 [==============================] - 1s 21ms/step - loss: 19.6046 - rmse: 26.8283 - r2_keras: 0.5760 - val_loss: 16.8709 - val_rmse: 20.5264 - val_r2_keras: 0.4751\n",
      "Epoch 154/500\n",
      "67/67 [==============================] - 1s 22ms/step - loss: 19.8137 - rmse: 27.0430 - r2_keras: 0.5683 - val_loss: 17.2410 - val_rmse: 20.9130 - val_r2_keras: 0.4455\n",
      "Epoch 155/500\n",
      "67/67 [==============================] - 1s 19ms/step - loss: 19.9537 - rmse: 27.2349 - r2_keras: 0.5623 - val_loss: 17.5668 - val_rmse: 21.2291 - val_r2_keras: 0.4194\n",
      "Epoch 156/500\n",
      "67/67 [==============================] - 1s 15ms/step - loss: 19.9313 - rmse: 27.2108 - r2_keras: 0.5637 - val_loss: 17.4056 - val_rmse: 21.0811 - val_r2_keras: 0.4325\n",
      "Epoch 157/500\n",
      "67/67 [==============================] - 1s 15ms/step - loss: 19.6945 - rmse: 27.0173 - r2_keras: 0.5686 - val_loss: 16.8880 - val_rmse: 20.5446 - val_r2_keras: 0.4720\n",
      "Epoch 158/500\n",
      "67/67 [==============================] - 1s 15ms/step - loss: 19.8590 - rmse: 27.0405 - r2_keras: 0.5693 - val_loss: 16.5909 - val_rmse: 20.2424 - val_r2_keras: 0.4967\n"
     ]
    }
   ],
   "source": [
    "# Train the model\n",
    "history = New_DCNN.fit(seq_array,label_array, epochs=500, batch_size=200,\n",
    "                       validation_split=0.2,callbacks=[early_stopping, \n",
    "                        model_checkpoint])"
   ]
  },
  {
   "cell_type": "code",
   "execution_count": 31,
   "metadata": {
    "colab": {},
    "colab_type": "code",
    "id": "J6aR6woKv8ok"
   },
   "outputs": [],
   "source": [
    "#load the best state of the model\n",
    "model= load_model(\"my_checkpoint.h5\", custom_objects={'r2_keras': r2_keras,'rmse':rmse})"
   ]
  },
  {
   "cell_type": "code",
   "execution_count": 17,
   "metadata": {
    "colab": {},
    "colab_type": "code",
    "id": "4TsLT1ZoFdOw"
   },
   "outputs": [],
   "source": []
  },
  {
   "cell_type": "code",
   "execution_count": 32,
   "metadata": {
    "colab": {
     "base_uri": "https://localhost:8080/",
     "height": 35
    },
    "colab_type": "code",
    "id": "ii42B87R9Buo",
    "outputId": "556f2f6b-7b67-4a1b-df10-17def76d37f8"
   },
   "outputs": [
    {
     "name": "stdout",
     "output_type": "stream",
     "text": [
      "(155, 40, 14)\n"
     ]
    }
   ],
   "source": [
    "# generate test sequences and convert to numpy array\n",
    "test_gen = (list(gen_sequence(test_data[test_data['id']==id], sequence_length,\n",
    "            sequence_cols)) for id in test_data['id'].unique())\n",
    "\n",
    "# generate sequences and convert to numpy array\n",
    "test_gen = np.concatenate(list(test_gen)).astype(np.float32)\n",
    "#print(seq_array_test_last)\n",
    "print(test_gen.shape)"
   ]
  },
  {
   "cell_type": "code",
   "execution_count": 33,
   "metadata": {
    "colab": {
     "base_uri": "https://localhost:8080/",
     "height": 35
    },
    "colab_type": "code",
    "id": "-VfMsfpS9YA1",
    "outputId": "a1c15460-f7f8-4b29-ffa9-1a8e8d0e785c"
   },
   "outputs": [
    {
     "data": {
      "text/plain": [
       "(155, 1)"
      ]
     },
     "execution_count": 33,
     "metadata": {},
     "output_type": "execute_result"
    }
   ],
   "source": [
    "# generate test labels\n",
    "test_target = [gen_labels(test_data[test_data['id']==id], sequence_length,\n",
    "               ['R_early']) for id in test_data['id'].unique()]\n",
    "\n",
    "y_true = np.concatenate(test_target).astype(np.float32)\n",
    "y_true.shape"
   ]
  },
  {
   "cell_type": "code",
   "execution_count": 34,
   "metadata": {
    "colab": {},
    "colab_type": "code",
    "id": "61nP-WOpv8or"
   },
   "outputs": [
    {
     "name": "stdout",
     "output_type": "stream",
     "text": [
      "5/5 [==============================] - 0s 2ms/step\n"
     ]
    }
   ],
   "source": [
    "#predict on the test data\n",
    "RUL_pred = model.predict(test_gen)"
   ]
  },
  {
   "cell_type": "code",
   "execution_count": 35,
   "metadata": {
    "colab": {
     "base_uri": "https://localhost:8080/",
     "height": 35
    },
    "colab_type": "code",
    "id": "gUQizaNc5Cg3",
    "outputId": "05b36d08-6922-4770-898d-a3694f525bf6"
   },
   "outputs": [
    {
     "data": {
      "text/plain": [
       "(155, 1)"
      ]
     },
     "execution_count": 35,
     "metadata": {},
     "output_type": "execute_result"
    }
   ],
   "source": [
    "RUL_pred.shape"
   ]
  },
  {
   "cell_type": "code",
   "execution_count": 36,
   "metadata": {
    "colab": {
     "base_uri": "https://localhost:8080/",
     "height": 35
    },
    "colab_type": "code",
    "id": "KQiStE-aPBr9",
    "outputId": "708dbe77-50fd-4729-fcca-e38689d31f8a"
   },
   "outputs": [
    {
     "data": {
      "text/plain": [
       "(155, 1)"
      ]
     },
     "execution_count": 36,
     "metadata": {},
     "output_type": "execute_result"
    }
   ],
   "source": [
    "y_true.shape"
   ]
  },
  {
   "cell_type": "code",
   "execution_count": 37,
   "metadata": {
    "colab": {
     "base_uri": "https://localhost:8080/",
     "height": 265
    },
    "colab_type": "code",
    "id": "Dv2lDZkY5Ch7",
    "outputId": "8d903036-0cd5-47a9-bf82-695d34fbb62c"
   },
   "outputs": [
    {
     "data": {
      "image/png": "[encoded data removed]",
      "text/plain": [
       "<Figure size 640x480 with 1 Axes>"
      ]
     },
     "metadata": {},
     "output_type": "display_data"
    }
   ],
   "source": [
    "#Plot the predicted versus true RUL trend\n",
    "time = np.arange(test_gen.shape[0])\n",
    "plt.plot(time,RUL_pred)\n",
    "plt.plot(time, y_true)\n",
    "plt.show()"
   ]
  },
  {
   "cell_type": "code",
   "execution_count": 38,
   "metadata": {
    "colab": {
     "base_uri": "https://localhost:8080/",
     "height": 313
    },
    "colab_type": "code",
    "id": "Xcm3s65S5CiV",
    "outputId": "ad45356a-afb7-4773-9633-1d97d78f2bc8",
    "tags": []
   },
   "outputs": [
    {
     "name": "stdout",
     "output_type": "stream",
     "text": [
      "dict_keys(['loss', 'rmse', 'r2_keras', 'val_loss', 'val_rmse', 'val_r2_keras'])\n"
     ]
    },
    {
     "data": {
      "image/png": "[encoded data removed]",
      "text/plain": [
       "<Figure size 640x480 with 1 Axes>"
      ]
     },
     "metadata": {},
     "output_type": "display_data"
    }
   ],
   "source": [
    "#Plot the losses  \n",
    "print(history.history.keys())\n",
    "# \"Loss\"\n",
    "plt.plot(history.history['loss'])\n",
    "plt.plot(history.history['val_loss'])\n",
    "plt.title('model loss')\n",
    "plt.ylabel('loss')\n",
    "plt.xlabel('epoch')\n",
    "plt.legend(['train', 'validation'], loc='upper left')\n",
    "plt.show()"
   ]
  },
  {
   "cell_type": "code",
   "execution_count": 39,
   "metadata": {
    "colab": {
     "base_uri": "https://localhost:8080/",
     "height": 35
    },
    "colab_type": "code",
    "id": "mVHwSFLu3fiM",
    "outputId": "df950e19-c35d-4a68-c688-66d5bde7d947"
   },
   "outputs": [
    {
     "data": {
      "text/plain": [
       "9.318501"
      ]
     },
     "execution_count": 39,
     "metadata": {},
     "output_type": "execute_result"
    }
   ],
   "source": [
    "#Estimate the model average rmse\n",
    "final_mse = keras.metrics.mean_squared_error(y_true, RUL_pred)\n",
    "final_rmse = np.sqrt(final_mse)\n",
    "final_rmse\n",
    "np.mean(final_rmse)"
   ]
  },
  {
   "cell_type": "code",
   "execution_count": null,
   "metadata": {},
   "outputs": [],
   "source": []
  }
 ],
 "metadata": {
  "accelerator": "GPU",
  "colab": {
   "collapsed_sections": [],
   "name": "DCNN_Copy (1).ipynb",
   "provenance": []
  },
  "kernelspec": {
   "display_name": "Python 3 (ipykernel)",
   "language": "python",
   "name": "python3"
  },
  "language_info": {
   "codemirror_mode": {
    "name": "ipython",
    "version": 3
   },
   "file_extension": ".py",
   "mimetype": "text/x-python",
   "name": "python",
   "nbconvert_exporter": "python",
   "pygments_lexer": "ipython3",
   "version": "3.10.13"
  }
 },
 "nbformat": 4,
 "nbformat_minor": 4
}
